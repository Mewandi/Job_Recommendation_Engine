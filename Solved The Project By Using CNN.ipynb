{
 "cells": [
  {
   "cell_type": "code",
   "execution_count": 131,
   "id": "4f41fd00-4bc7-4252-b0b3-dfd4b695cd82",
   "metadata": {
    "scrolled": true
   },
   "outputs": [
    {
     "name": "stdout",
     "output_type": "stream",
     "text": [
      " Volume in drive C has no label.\n",
      " Volume Serial Number is 2C28-A088\n",
      "\n",
      " Directory of C:\\Users\\Mewandi\\Desktop\\AI_Projects\\Job_Recommendation_Engine\n",
      "\n",
      "08/20/2025  02:17 PM    <DIR>          .\n",
      "08/20/2025  02:17 PM    <DIR>          ..\n",
      "08/19/2025  02:04 PM    <DIR>          .ipynb_checkpoints\n",
      "08/19/2025  12:24 PM            44,428 Cluster Solved.ipynb\n",
      "08/05/2025  12:58 PM            20,878 education.csv\n",
      "08/05/2025  12:58 PM           641,984 employment.csv\n",
      "08/03/2025  11:36 PM           221,690 Explination.jpeg\n",
      "08/05/2025  12:58 PM           349,053 jobs.csv\n",
      "08/19/2025  02:05 PM            57,156 MultinomialNB Solved.ipynb\n",
      "08/20/2025  02:17 PM            41,912 Using CNN.ipynb\n",
      "               7 File(s)      1,377,101 bytes\n",
      "               3 Dir(s)  510,506,393,600 bytes free\n"
     ]
    }
   ],
   "source": [
    "ls"
   ]
  },
  {
   "cell_type": "code",
   "execution_count": 132,
   "id": "f4f8a866-2988-415c-b2c3-c10a5774add8",
   "metadata": {},
   "outputs": [],
   "source": [
    "import numpy as np\n",
    "import pandas as pd"
   ]
  },
  {
   "cell_type": "code",
   "execution_count": 133,
   "id": "5d99e9d4-e7a6-4b0b-a6d9-360e26c3623f",
   "metadata": {},
   "outputs": [
    {
     "data": {
      "text/plain": [
       "Index(['jobTitle', 'position', 'minBudget', 'maxBudget', 'travelReq',\n",
       "       'location', 'description', 'attachment', 'orgId', 'jobType', 'skills',\n",
       "       'recruiter', 'client', 'minExp', 'maxExp', 'noticePeriod', 'status',\n",
       "       'jobId', 'createDate', 'vacancies', 'priority', 'priceType', 'workType',\n",
       "       'comment', 'subvendorId', 'Questionnaires', 'country', 'department',\n",
       "       'eligibility', 'responsibilities'],\n",
       "      dtype='object')"
      ]
     },
     "execution_count": 133,
     "metadata": {},
     "output_type": "execute_result"
    }
   ],
   "source": [
    "job_df = pd.read_csv(\"jobs.csv\")\n",
    "\n",
    "job_df.columns"
   ]
  },
  {
   "cell_type": "code",
   "execution_count": 134,
   "id": "d46834f7-02dc-41ea-a2a8-a9db78d51081",
   "metadata": {
    "scrolled": true
   },
   "outputs": [
    {
     "data": {
      "text/plain": [
       "jobTitle              0.000000\n",
       "position              0.000000\n",
       "minBudget             0.325733\n",
       "maxBudget             0.325733\n",
       "travelReq             0.000000\n",
       "location              0.000000\n",
       "description           0.000000\n",
       "attachment           77.850163\n",
       "orgId                 0.000000\n",
       "jobType               0.000000\n",
       "skills                0.000000\n",
       "recruiter             0.000000\n",
       "client                0.000000\n",
       "minExp                0.000000\n",
       "maxExp                0.000000\n",
       "noticePeriod          0.000000\n",
       "status                0.000000\n",
       "jobId                 0.000000\n",
       "createDate            0.000000\n",
       "vacancies            12.052117\n",
       "priority             14.657980\n",
       "priceType            16.286645\n",
       "workType             15.635179\n",
       "comment              98.371336\n",
       "subvendorId         100.000000\n",
       "Questionnaires      100.000000\n",
       "country              95.114007\n",
       "department          100.000000\n",
       "eligibility         100.000000\n",
       "responsibilities    100.000000\n",
       "dtype: float64"
      ]
     },
     "execution_count": 134,
     "metadata": {},
     "output_type": "execute_result"
    }
   ],
   "source": [
    "100 * job_df.isnull().sum() / len(job_df)"
   ]
  },
  {
   "cell_type": "markdown",
   "id": "1efcfd16-2957-488a-8d1b-463825bd75c7",
   "metadata": {},
   "source": [
    "#### IDs, duplicates, or any column with >95% missing values"
   ]
  },
  {
   "cell_type": "code",
   "execution_count": 135,
   "id": "7c30cd4f-bd1d-478c-90db-d291af361e39",
   "metadata": {},
   "outputs": [],
   "source": [
    "job_df = job_df.drop(columns=['comment'])\n",
    "job_df = job_df.drop(columns=['subvendorId']) \n",
    "job_df = job_df.drop(columns=['Questionnaires']) \n",
    "job_df = job_df.drop(columns=['country']) \n",
    "job_df = job_df.drop(columns=['department']) \n",
    "job_df = job_df.drop(columns=['eligibility']) \n",
    "job_df = job_df.drop(columns=['responsibilities']) \n",
    "job_df = job_df.drop(columns=['orgId']) \n",
    "job_df = job_df.drop(columns=['jobId'])\n",
    "job_df = job_df.drop(columns=['client'])"
   ]
  },
  {
   "cell_type": "code",
   "execution_count": 136,
   "id": "6bfee146-ab9d-495e-99b7-11f5fcf03681",
   "metadata": {},
   "outputs": [
    {
     "data": {
      "text/plain": [
       "Index(['jobTitle', 'position', 'minBudget', 'maxBudget', 'travelReq',\n",
       "       'location', 'description', 'attachment', 'jobType', 'skills',\n",
       "       'recruiter', 'minExp', 'maxExp', 'noticePeriod', 'status', 'createDate',\n",
       "       'vacancies', 'priority', 'priceType', 'workType'],\n",
       "      dtype='object')"
      ]
     },
     "execution_count": 136,
     "metadata": {},
     "output_type": "execute_result"
    }
   ],
   "source": [
    "job_df.columns"
   ]
  },
  {
   "cell_type": "code",
   "execution_count": 137,
   "id": "78227807-b7ca-4951-b12a-ec65904fd9a2",
   "metadata": {},
   "outputs": [
    {
     "data": {
      "text/html": [
       "<div>\n",
       "<style scoped>\n",
       "    .dataframe tbody tr th:only-of-type {\n",
       "        vertical-align: middle;\n",
       "    }\n",
       "\n",
       "    .dataframe tbody tr th {\n",
       "        vertical-align: top;\n",
       "    }\n",
       "\n",
       "    .dataframe thead th {\n",
       "        text-align: right;\n",
       "    }\n",
       "</style>\n",
       "<table border=\"1\" class=\"dataframe\">\n",
       "  <thead>\n",
       "    <tr style=\"text-align: right;\">\n",
       "      <th></th>\n",
       "      <th>jobTitle</th>\n",
       "      <th>position</th>\n",
       "      <th>minBudget</th>\n",
       "      <th>maxBudget</th>\n",
       "      <th>travelReq</th>\n",
       "      <th>location</th>\n",
       "      <th>description</th>\n",
       "      <th>attachment</th>\n",
       "      <th>jobType</th>\n",
       "      <th>skills</th>\n",
       "      <th>recruiter</th>\n",
       "      <th>minExp</th>\n",
       "      <th>maxExp</th>\n",
       "      <th>noticePeriod</th>\n",
       "      <th>status</th>\n",
       "      <th>createDate</th>\n",
       "      <th>vacancies</th>\n",
       "      <th>priority</th>\n",
       "      <th>priceType</th>\n",
       "      <th>workType</th>\n",
       "    </tr>\n",
       "  </thead>\n",
       "  <tbody>\n",
       "    <tr>\n",
       "      <th>0</th>\n",
       "      <td>Plant Maintenance Engineer</td>\n",
       "      <td>Plant Maintenance Engineer</td>\n",
       "      <td>300000.0</td>\n",
       "      <td>600000.0</td>\n",
       "      <td>True</td>\n",
       "      <td>{Hyderabad}</td>\n",
       "      <td>Read and understand the data from P&amp;ID, PEFS, ...</td>\n",
       "      <td>NaN</td>\n",
       "      <td>Permanent</td>\n",
       "      <td>{\"Plant Maintenance\"}</td>\n",
       "      <td>DB413862</td>\n",
       "      <td>2.0</td>\n",
       "      <td>5.0</td>\n",
       "      <td>15-30 days</td>\n",
       "      <td>Active</td>\n",
       "      <td>2023-01-31 11:09:26.36189</td>\n",
       "      <td>2.0</td>\n",
       "      <td>High</td>\n",
       "      <td>INR</td>\n",
       "      <td>Work from Office</td>\n",
       "    </tr>\n",
       "  </tbody>\n",
       "</table>\n",
       "</div>"
      ],
      "text/plain": [
       "                     jobTitle                    position  minBudget  \\\n",
       "0  Plant Maintenance Engineer  Plant Maintenance Engineer   300000.0   \n",
       "\n",
       "   maxBudget  travelReq     location  \\\n",
       "0   600000.0       True  {Hyderabad}   \n",
       "\n",
       "                                         description attachment    jobType  \\\n",
       "0  Read and understand the data from P&ID, PEFS, ...        NaN  Permanent   \n",
       "\n",
       "                  skills recruiter  minExp  maxExp noticePeriod  status  \\\n",
       "0  {\"Plant Maintenance\"}  DB413862     2.0     5.0   15-30 days  Active   \n",
       "\n",
       "                  createDate  vacancies priority priceType          workType  \n",
       "0  2023-01-31 11:09:26.36189        2.0     High       INR  Work from Office  "
      ]
     },
     "execution_count": 137,
     "metadata": {},
     "output_type": "execute_result"
    }
   ],
   "source": [
    "job_df.head(1)"
   ]
  },
  {
   "cell_type": "code",
   "execution_count": 138,
   "id": "7a7c4b65-090c-4058-b1a8-374651e40eaa",
   "metadata": {},
   "outputs": [
    {
     "data": {
      "text/plain": [
       "minBudget    1.000000\n",
       "maxBudget    0.842138\n",
       "travelReq    0.092756\n",
       "minExp       0.038783\n",
       "maxExp       0.037647\n",
       "vacancies   -0.007996\n",
       "Name: minBudget, dtype: float64"
      ]
     },
     "execution_count": 138,
     "metadata": {},
     "output_type": "execute_result"
    }
   ],
   "source": [
    "job_df.corr(numeric_only=True)['minBudget']"
   ]
  },
  {
   "cell_type": "code",
   "execution_count": 139,
   "id": "00d91827-f834-4637-925e-debfbe0544e8",
   "metadata": {},
   "outputs": [
    {
     "data": {
      "text/plain": [
       "array([False, False, False, False, False, False, False, False, False,\n",
       "       False, False, False, False, False, False, False, False, False,\n",
       "       False, False])"
      ]
     },
     "execution_count": 139,
     "metadata": {},
     "output_type": "execute_result"
    }
   ],
   "source": [
    "job_df.columns.duplicated()"
   ]
  },
  {
   "cell_type": "code",
   "execution_count": 140,
   "id": "38960c7a-68e3-44b5-9674-6c58874268ad",
   "metadata": {},
   "outputs": [],
   "source": [
    "job_col_df = job_df[['jobTitle', 'description', 'status', 'skills']]\n",
    "#job_col_df"
   ]
  },
  {
   "cell_type": "markdown",
   "id": "3f01b378-8af0-4590-8974-7568bc24bdf9",
   "metadata": {},
   "source": [
    "### Employ chossing columns"
   ]
  },
  {
   "cell_type": "code",
   "execution_count": 141,
   "id": "746ee726-d02c-40d4-97a4-a3ddd42828b9",
   "metadata": {},
   "outputs": [
    {
     "data": {
      "text/plain": [
       "Index(['employmentId', 'uploadResume', 'currentCompany', 'currentDesignation',\n",
       "       'annualSalary', 'industry', 'functionalArea', 'role', 'currentLocation',\n",
       "       'orgId', 'noticePeriod', 'skills', 'totalWorkExp', 'minExp', 'maxExp',\n",
       "       'applicantId', 'preferedLocation', 'holdingAnyOffer', 'expectedCtc',\n",
       "       'feedback', 'comment', 'isCurrent', 'companyEmail', 'packageOffered',\n",
       "       'lastWorkingDay', 'remarks', 'previousCompany', 'offerLetter',\n",
       "       'experienceLetter', 'relieveingLetter', 'isRecent', 'paySlips',\n",
       "       'createdOn'],\n",
       "      dtype='object')"
      ]
     },
     "execution_count": 141,
     "metadata": {},
     "output_type": "execute_result"
    }
   ],
   "source": [
    "emp_df = pd.read_csv(\"employment.csv\")\n",
    "\n",
    "emp_df.columns"
   ]
  },
  {
   "cell_type": "code",
   "execution_count": 142,
   "id": "72a27223-d00b-432f-9d1d-1fc58233e8e1",
   "metadata": {},
   "outputs": [],
   "source": [
    "emp_df = emp_df.drop(columns=['employmentId'])\n",
    "emp_df = emp_df.drop(columns=['applicantId'])\n",
    "emp_df = emp_df.drop(columns=['orgId'])"
   ]
  },
  {
   "cell_type": "code",
   "execution_count": 143,
   "id": "b193f825-1409-45bc-8a37-18fd55e68c8c",
   "metadata": {
    "scrolled": true
   },
   "outputs": [
    {
     "data": {
      "text/plain": [
       "uploadResume           23.773225\n",
       "currentCompany          4.621248\n",
       "currentDesignation      2.048595\n",
       "annualSalary            5.002382\n",
       "industry                4.525965\n",
       "functionalArea          5.383516\n",
       "role                  100.000000\n",
       "currentLocation         4.764173\n",
       "noticePeriod            8.575512\n",
       "skills                  0.000000\n",
       "totalWorkExp            4.621248\n",
       "minExp                100.000000\n",
       "maxExp                100.000000\n",
       "preferedLocation       26.822296\n",
       "holdingAnyOffer        27.870414\n",
       "expectedCtc            26.679371\n",
       "feedback               98.999524\n",
       "comment                92.424964\n",
       "isCurrent              43.163411\n",
       "companyEmail           66.936636\n",
       "packageOffered         99.285374\n",
       "lastWorkingDay         98.999524\n",
       "remarks                97.189138\n",
       "previousCompany       100.000000\n",
       "offerLetter           100.000000\n",
       "experienceLetter      100.000000\n",
       "relieveingLetter      100.000000\n",
       "isRecent              100.000000\n",
       "paySlips              100.000000\n",
       "createdOn               0.000000\n",
       "dtype: float64"
      ]
     },
     "execution_count": 143,
     "metadata": {},
     "output_type": "execute_result"
    }
   ],
   "source": [
    "100 * emp_df.isnull().sum() / len(emp_df)"
   ]
  },
  {
   "cell_type": "code",
   "execution_count": 144,
   "id": "a332216d-5898-4da2-b45e-9cc58396d04e",
   "metadata": {},
   "outputs": [
    {
     "data": {
      "text/html": [
       "<div>\n",
       "<style scoped>\n",
       "    .dataframe tbody tr th:only-of-type {\n",
       "        vertical-align: middle;\n",
       "    }\n",
       "\n",
       "    .dataframe tbody tr th {\n",
       "        vertical-align: top;\n",
       "    }\n",
       "\n",
       "    .dataframe thead th {\n",
       "        text-align: right;\n",
       "    }\n",
       "</style>\n",
       "<table border=\"1\" class=\"dataframe\">\n",
       "  <thead>\n",
       "    <tr style=\"text-align: right;\">\n",
       "      <th></th>\n",
       "      <th>uploadResume</th>\n",
       "      <th>currentCompany</th>\n",
       "      <th>currentDesignation</th>\n",
       "      <th>annualSalary</th>\n",
       "      <th>industry</th>\n",
       "      <th>functionalArea</th>\n",
       "      <th>role</th>\n",
       "      <th>currentLocation</th>\n",
       "      <th>noticePeriod</th>\n",
       "      <th>skills</th>\n",
       "      <th>...</th>\n",
       "      <th>packageOffered</th>\n",
       "      <th>lastWorkingDay</th>\n",
       "      <th>remarks</th>\n",
       "      <th>previousCompany</th>\n",
       "      <th>offerLetter</th>\n",
       "      <th>experienceLetter</th>\n",
       "      <th>relieveingLetter</th>\n",
       "      <th>isRecent</th>\n",
       "      <th>paySlips</th>\n",
       "      <th>createdOn</th>\n",
       "    </tr>\n",
       "  </thead>\n",
       "  <tbody>\n",
       "    <tr>\n",
       "      <th>0</th>\n",
       "      <td>NaN</td>\n",
       "      <td>ESMOB Technologies</td>\n",
       "      <td>React JS Developer</td>\n",
       "      <td>3.5</td>\n",
       "      <td>1.0</td>\n",
       "      <td>Software Developer</td>\n",
       "      <td>NaN</td>\n",
       "      <td>Hyderabad</td>\n",
       "      <td>NaN</td>\n",
       "      <td>{css,js}</td>\n",
       "      <td>...</td>\n",
       "      <td>NaN</td>\n",
       "      <td>NaN</td>\n",
       "      <td>NaN</td>\n",
       "      <td>NaN</td>\n",
       "      <td>NaN</td>\n",
       "      <td>NaN</td>\n",
       "      <td>NaN</td>\n",
       "      <td>NaN</td>\n",
       "      <td>NaN</td>\n",
       "      <td>2024-03-08 08:49:43.960932</td>\n",
       "    </tr>\n",
       "    <tr>\n",
       "      <th>1</th>\n",
       "      <td>NaN</td>\n",
       "      <td>Lejara Global IT Solutions Pvt. Ltd</td>\n",
       "      <td>RPA Developer</td>\n",
       "      <td>4.5</td>\n",
       "      <td>1.0</td>\n",
       "      <td>Software Developer</td>\n",
       "      <td>NaN</td>\n",
       "      <td>Hyderabad</td>\n",
       "      <td>NaN</td>\n",
       "      <td>{RPA,python}</td>\n",
       "      <td>...</td>\n",
       "      <td>NaN</td>\n",
       "      <td>NaN</td>\n",
       "      <td>NaN</td>\n",
       "      <td>NaN</td>\n",
       "      <td>NaN</td>\n",
       "      <td>NaN</td>\n",
       "      <td>NaN</td>\n",
       "      <td>NaN</td>\n",
       "      <td>NaN</td>\n",
       "      <td>2024-03-08 08:49:43.960932</td>\n",
       "    </tr>\n",
       "  </tbody>\n",
       "</table>\n",
       "<p>2 rows × 30 columns</p>\n",
       "</div>"
      ],
      "text/plain": [
       "  uploadResume                       currentCompany  currentDesignation  \\\n",
       "0          NaN                   ESMOB Technologies  React JS Developer   \n",
       "1          NaN  Lejara Global IT Solutions Pvt. Ltd       RPA Developer   \n",
       "\n",
       "  annualSalary  industry      functionalArea  role currentLocation  \\\n",
       "0          3.5       1.0  Software Developer   NaN       Hyderabad   \n",
       "1          4.5       1.0  Software Developer   NaN       Hyderabad   \n",
       "\n",
       "  noticePeriod        skills  ...  packageOffered  lastWorkingDay  remarks  \\\n",
       "0          NaN      {css,js}  ...             NaN             NaN      NaN   \n",
       "1          NaN  {RPA,python}  ...             NaN             NaN      NaN   \n",
       "\n",
       "  previousCompany offerLetter experienceLetter relieveingLetter isRecent  \\\n",
       "0             NaN         NaN              NaN              NaN      NaN   \n",
       "1             NaN         NaN              NaN              NaN      NaN   \n",
       "\n",
       "  paySlips                   createdOn  \n",
       "0      NaN  2024-03-08 08:49:43.960932  \n",
       "1      NaN  2024-03-08 08:49:43.960932  \n",
       "\n",
       "[2 rows x 30 columns]"
      ]
     },
     "execution_count": 144,
     "metadata": {},
     "output_type": "execute_result"
    }
   ],
   "source": [
    "emp_df.head(2)"
   ]
  },
  {
   "cell_type": "code",
   "execution_count": 145,
   "id": "6b112f0b-74a0-428c-9327-ecdf05934ac4",
   "metadata": {},
   "outputs": [],
   "source": [
    "emp_cols_df = emp_df[['functionalArea', 'skills']]"
   ]
  },
  {
   "cell_type": "markdown",
   "id": "441e9666-166b-4b17-ba6d-262cefa4c917",
   "metadata": {},
   "source": [
    "### Education chossing columns"
   ]
  },
  {
   "cell_type": "code",
   "execution_count": 146,
   "id": "56a16245-8455-4ff0-bd9e-4b100dc8795d",
   "metadata": {},
   "outputs": [
    {
     "data": {
      "text/plain": [
       "Index(['Id', 'primarySchool', 'primaryPercentage', 'primaryPassoutYear',\n",
       "       'secondarySchool', 'secondaryPercentage', 'secondaryPassoutYear',\n",
       "       'graduation', 'graduationPercentage', 'graduationPassoutYear', 'orgId',\n",
       "       'applicantId', 'certificates', 'name', 'degree', 'fieldOfStudy',\n",
       "       'percentage', 'certificate', 'createdOn'],\n",
       "      dtype='object')"
      ]
     },
     "execution_count": 146,
     "metadata": {},
     "output_type": "execute_result"
    }
   ],
   "source": [
    "edu_df = pd.read_csv(\"education.csv\")\n",
    "\n",
    "edu_df.columns"
   ]
  },
  {
   "cell_type": "code",
   "execution_count": 147,
   "id": "5ff35512-6685-4b12-b7ee-11137ec7aff5",
   "metadata": {},
   "outputs": [],
   "source": [
    "edu_df = edu_df.drop(columns=['Id'])\n",
    "edu_df = edu_df.drop(columns=['applicantId'])\n",
    "edu_df = edu_df.drop(columns=['orgId'])"
   ]
  },
  {
   "cell_type": "code",
   "execution_count": 148,
   "id": "ad045f22-e279-45b9-8d07-131f1fe0cd53",
   "metadata": {},
   "outputs": [
    {
     "data": {
      "text/html": [
       "<div>\n",
       "<style scoped>\n",
       "    .dataframe tbody tr th:only-of-type {\n",
       "        vertical-align: middle;\n",
       "    }\n",
       "\n",
       "    .dataframe tbody tr th {\n",
       "        vertical-align: top;\n",
       "    }\n",
       "\n",
       "    .dataframe thead th {\n",
       "        text-align: right;\n",
       "    }\n",
       "</style>\n",
       "<table border=\"1\" class=\"dataframe\">\n",
       "  <thead>\n",
       "    <tr style=\"text-align: right;\">\n",
       "      <th></th>\n",
       "      <th>primarySchool</th>\n",
       "      <th>primaryPercentage</th>\n",
       "      <th>primaryPassoutYear</th>\n",
       "      <th>secondarySchool</th>\n",
       "      <th>secondaryPercentage</th>\n",
       "      <th>secondaryPassoutYear</th>\n",
       "      <th>graduation</th>\n",
       "      <th>graduationPercentage</th>\n",
       "      <th>graduationPassoutYear</th>\n",
       "      <th>certificates</th>\n",
       "      <th>name</th>\n",
       "      <th>degree</th>\n",
       "      <th>fieldOfStudy</th>\n",
       "      <th>percentage</th>\n",
       "      <th>certificate</th>\n",
       "      <th>createdOn</th>\n",
       "    </tr>\n",
       "  </thead>\n",
       "  <tbody>\n",
       "    <tr>\n",
       "      <th>0</th>\n",
       "      <td>NaN</td>\n",
       "      <td>0</td>\n",
       "      <td>0</td>\n",
       "      <td>NaN</td>\n",
       "      <td>0.0</td>\n",
       "      <td>0</td>\n",
       "      <td>NaN</td>\n",
       "      <td>0.0</td>\n",
       "      <td>0</td>\n",
       "      <td>NaN</td>\n",
       "      <td>NaN</td>\n",
       "      <td>NaN</td>\n",
       "      <td>NaN</td>\n",
       "      <td>NaN</td>\n",
       "      <td>NaN</td>\n",
       "      <td>2024-03-08 08:48:16.349684</td>\n",
       "    </tr>\n",
       "    <tr>\n",
       "      <th>1</th>\n",
       "      <td>Marks High school</td>\n",
       "      <td>86</td>\n",
       "      <td>1999</td>\n",
       "      <td>Marks High school</td>\n",
       "      <td>80.0</td>\n",
       "      <td>2001</td>\n",
       "      <td>NaN</td>\n",
       "      <td>0.0</td>\n",
       "      <td>0</td>\n",
       "      <td>NaN</td>\n",
       "      <td>NaN</td>\n",
       "      <td>NaN</td>\n",
       "      <td>NaN</td>\n",
       "      <td>NaN</td>\n",
       "      <td>NaN</td>\n",
       "      <td>2024-03-08 08:48:16.349684</td>\n",
       "    </tr>\n",
       "    <tr>\n",
       "      <th>2</th>\n",
       "      <td>NaN</td>\n",
       "      <td>0</td>\n",
       "      <td>0</td>\n",
       "      <td>NaN</td>\n",
       "      <td>0.0</td>\n",
       "      <td>0</td>\n",
       "      <td>NaN</td>\n",
       "      <td>0.0</td>\n",
       "      <td>0</td>\n",
       "      <td>NaN</td>\n",
       "      <td>NaN</td>\n",
       "      <td>NaN</td>\n",
       "      <td>NaN</td>\n",
       "      <td>NaN</td>\n",
       "      <td>NaN</td>\n",
       "      <td>2024-03-08 08:48:16.349684</td>\n",
       "    </tr>\n",
       "  </tbody>\n",
       "</table>\n",
       "</div>"
      ],
      "text/plain": [
       "       primarySchool  primaryPercentage  primaryPassoutYear  \\\n",
       "0                NaN                  0                   0   \n",
       "1  Marks High school                 86                1999   \n",
       "2                NaN                  0                   0   \n",
       "\n",
       "     secondarySchool  secondaryPercentage  secondaryPassoutYear graduation  \\\n",
       "0                NaN                  0.0                     0        NaN   \n",
       "1  Marks High school                 80.0                  2001        NaN   \n",
       "2                NaN                  0.0                     0        NaN   \n",
       "\n",
       "   graduationPercentage  graduationPassoutYear certificates  name  degree  \\\n",
       "0                   0.0                      0          NaN   NaN     NaN   \n",
       "1                   0.0                      0          NaN   NaN     NaN   \n",
       "2                   0.0                      0          NaN   NaN     NaN   \n",
       "\n",
       "   fieldOfStudy  percentage  certificate                   createdOn  \n",
       "0           NaN         NaN          NaN  2024-03-08 08:48:16.349684  \n",
       "1           NaN         NaN          NaN  2024-03-08 08:48:16.349684  \n",
       "2           NaN         NaN          NaN  2024-03-08 08:48:16.349684  "
      ]
     },
     "execution_count": 148,
     "metadata": {},
     "output_type": "execute_result"
    }
   ],
   "source": [
    "edu_df.head(3)"
   ]
  },
  {
   "cell_type": "code",
   "execution_count": 149,
   "id": "f242aa1d-7a63-48aa-aac0-51bf5616b29f",
   "metadata": {},
   "outputs": [
    {
     "data": {
      "text/plain": [
       "primarySchool             94.148936\n",
       "primaryPercentage          0.000000\n",
       "primaryPassoutYear         0.000000\n",
       "secondarySchool           95.744681\n",
       "secondaryPercentage        0.000000\n",
       "secondaryPassoutYear       0.000000\n",
       "graduation                95.212766\n",
       "graduationPercentage       0.000000\n",
       "graduationPassoutYear      0.000000\n",
       "certificates              92.021277\n",
       "name                     100.000000\n",
       "degree                   100.000000\n",
       "fieldOfStudy             100.000000\n",
       "percentage               100.000000\n",
       "certificate              100.000000\n",
       "createdOn                  0.000000\n",
       "dtype: float64"
      ]
     },
     "execution_count": 149,
     "metadata": {},
     "output_type": "execute_result"
    }
   ],
   "source": [
    "100 * edu_df.isnull().sum() / len(edu_df)"
   ]
  },
  {
   "cell_type": "markdown",
   "id": "f67b7571-b6eb-462f-bb2e-f4d7ac875d8d",
   "metadata": {},
   "source": [
    "### Let's combine all datas to make one"
   ]
  },
  {
   "cell_type": "code",
   "execution_count": 150,
   "id": "195a8865-114c-4d79-ae07-e4825343e69e",
   "metadata": {},
   "outputs": [
    {
     "name": "stderr",
     "output_type": "stream",
     "text": [
      "C:\\Users\\Mewandi\\AppData\\Local\\Temp\\ipykernel_10160\\1312139321.py:1: SettingWithCopyWarning: \n",
      "A value is trying to be set on a copy of a slice from a DataFrame\n",
      "\n",
      "See the caveats in the documentation: https://pandas.pydata.org/pandas-docs/stable/user_guide/indexing.html#returning-a-view-versus-a-copy\n",
      "  job_col_df.rename(columns={'skills': 'required_skills'}, inplace=True)\n",
      "C:\\Users\\Mewandi\\AppData\\Local\\Temp\\ipykernel_10160\\1312139321.py:2: SettingWithCopyWarning: \n",
      "A value is trying to be set on a copy of a slice from a DataFrame\n",
      "\n",
      "See the caveats in the documentation: https://pandas.pydata.org/pandas-docs/stable/user_guide/indexing.html#returning-a-view-versus-a-copy\n",
      "  emp_cols_df.rename(columns={'skills': 'employee_skills'}, inplace=True)\n"
     ]
    }
   ],
   "source": [
    "job_col_df.rename(columns={'skills': 'required_skills'}, inplace=True)\n",
    "emp_cols_df.rename(columns={'skills': 'employee_skills'}, inplace=True)"
   ]
  },
  {
   "cell_type": "code",
   "execution_count": 151,
   "id": "1e22c886-9f93-41b6-83b3-d13066dfc040",
   "metadata": {},
   "outputs": [],
   "source": [
    "total_df = pd.concat([job_col_df, emp_cols_df])"
   ]
  },
  {
   "cell_type": "code",
   "execution_count": 152,
   "id": "d17361bb-7733-4054-b6d0-61b282fdb4f1",
   "metadata": {},
   "outputs": [],
   "source": [
    "total_df = pd.DataFrame(total_df)"
   ]
  },
  {
   "cell_type": "code",
   "execution_count": 153,
   "id": "ba4caad5-d4c5-455f-be2a-9266efb8052a",
   "metadata": {},
   "outputs": [
    {
     "data": {
      "text/plain": [
       "jobTitle           87.240233\n",
       "description        87.240233\n",
       "status             87.240233\n",
       "required_skills    87.240233\n",
       "functionalArea     17.456359\n",
       "employee_skills    12.759767\n",
       "dtype: float64"
      ]
     },
     "execution_count": 153,
     "metadata": {},
     "output_type": "execute_result"
    }
   ],
   "source": [
    "100 * total_df.isnull().sum() / len(total_df)"
   ]
  },
  {
   "cell_type": "code",
   "execution_count": 154,
   "id": "6ce41934-f021-436a-94a8-9670a5cd2ad1",
   "metadata": {},
   "outputs": [],
   "source": [
    "for i in total_df:\n",
    "    total_df[i] = total_df[i].fillna(\" \")"
   ]
  },
  {
   "cell_type": "code",
   "execution_count": 155,
   "id": "d745ace0-08fa-49ea-b0be-e869b108e139",
   "metadata": {},
   "outputs": [
    {
     "data": {
      "text/plain": [
       "jobTitle           0.0\n",
       "description        0.0\n",
       "status             0.0\n",
       "required_skills    0.0\n",
       "functionalArea     0.0\n",
       "employee_skills    0.0\n",
       "dtype: float64"
      ]
     },
     "execution_count": 155,
     "metadata": {},
     "output_type": "execute_result"
    }
   ],
   "source": [
    "100 * total_df.isnull().sum() / len(total_df)"
   ]
  },
  {
   "cell_type": "code",
   "execution_count": 156,
   "id": "c5db468e-68aa-4ceb-9f67-71ab7d48e562",
   "metadata": {},
   "outputs": [
    {
     "data": {
      "text/html": [
       "<div>\n",
       "<style scoped>\n",
       "    .dataframe tbody tr th:only-of-type {\n",
       "        vertical-align: middle;\n",
       "    }\n",
       "\n",
       "    .dataframe tbody tr th {\n",
       "        vertical-align: top;\n",
       "    }\n",
       "\n",
       "    .dataframe thead th {\n",
       "        text-align: right;\n",
       "    }\n",
       "</style>\n",
       "<table border=\"1\" class=\"dataframe\">\n",
       "  <thead>\n",
       "    <tr style=\"text-align: right;\">\n",
       "      <th></th>\n",
       "      <th>jobTitle</th>\n",
       "      <th>description</th>\n",
       "      <th>status</th>\n",
       "      <th>required_skills</th>\n",
       "      <th>functionalArea</th>\n",
       "      <th>employee_skills</th>\n",
       "    </tr>\n",
       "  </thead>\n",
       "  <tbody>\n",
       "    <tr>\n",
       "      <th>0</th>\n",
       "      <td>Plant Maintenance Engineer</td>\n",
       "      <td>Read and understand the data from P&amp;ID, PEFS, ...</td>\n",
       "      <td>Active</td>\n",
       "      <td>{\"Plant Maintenance\"}</td>\n",
       "      <td></td>\n",
       "      <td></td>\n",
       "    </tr>\n",
       "    <tr>\n",
       "      <th>1</th>\n",
       "      <td>Adobe Analytics developer</td>\n",
       "      <td>An understanding of the marketing technologies...</td>\n",
       "      <td>Active</td>\n",
       "      <td>{\"Adobe anaytics\",Agile,tableau,Marketo,\"power...</td>\n",
       "      <td></td>\n",
       "      <td></td>\n",
       "    </tr>\n",
       "  </tbody>\n",
       "</table>\n",
       "</div>"
      ],
      "text/plain": [
       "                     jobTitle  \\\n",
       "0  Plant Maintenance Engineer   \n",
       "1   Adobe Analytics developer   \n",
       "\n",
       "                                         description  status  \\\n",
       "0  Read and understand the data from P&ID, PEFS, ...  Active   \n",
       "1  An understanding of the marketing technologies...  Active   \n",
       "\n",
       "                                     required_skills functionalArea  \\\n",
       "0                              {\"Plant Maintenance\"}                  \n",
       "1  {\"Adobe anaytics\",Agile,tableau,Marketo,\"power...                  \n",
       "\n",
       "  employee_skills  \n",
       "0                  \n",
       "1                  "
      ]
     },
     "execution_count": 156,
     "metadata": {},
     "output_type": "execute_result"
    }
   ],
   "source": [
    "total_df.head(2)"
   ]
  },
  {
   "cell_type": "markdown",
   "id": "ef56a710-a1bf-4886-86c7-2d3313cc44ba",
   "metadata": {},
   "source": [
    "#### Categorical Columns and Text Columns"
   ]
  },
  {
   "cell_type": "code",
   "execution_count": 157,
   "id": "7af3de41-88d9-40ac-ab08-112d742a96d9",
   "metadata": {},
   "outputs": [],
   "source": [
    "cate_cols = total_df[['jobTitle', 'status', 'functionalArea']]\n",
    "text_cols = total_df[['description', 'required_skills', 'employee_skills']]"
   ]
  },
  {
   "cell_type": "code",
   "execution_count": 172,
   "id": "ba7b542b-e1f5-4b7c-9125-39bf87816c70",
   "metadata": {},
   "outputs": [],
   "source": [
    "# text_cols\n",
    "# cate_cols"
   ]
  },
  {
   "cell_type": "code",
   "execution_count": 197,
   "id": "9502feb9-8520-4bee-9006-c6551d4cb383",
   "metadata": {},
   "outputs": [],
   "source": [
    "import tensorflow as tf\n",
    "from tensorflow.keras.layers import Input, Embedding, Dense, Conv1D, GlobalMaxPooling1D, LSTM, concatenate, Dropout, Flatten\n",
    "from tensorflow.keras.models import Model\n",
    "from sklearn.preprocessing import LabelEncoder\n",
    "from tensorflow.keras.preprocessing.text import Tokenizer\n",
    "from tensorflow.keras.preprocessing.sequence import pad_sequences\n",
    "\n",
    "\n",
    "# -------------------- 1. Encode categorical columns --------------------\n",
    "#enc_jobtitle = LabelEncoder()\n",
    "#cate_cols['enc_jobtitle'] = enc_jobtitle.fit_transform(cate_cols['jobTitle'].astype(str))\n",
    "#jobtitle_len = len(cate_cols['enc_jobtitle'])\n",
    "\n",
    "enc_status = LabelEncoder()\n",
    "cate_cols['enc_status'] = enc_status.fit_transform(cate_cols['status'].astype(str))\n",
    "status_len = len(cate_cols['enc_status'])\n",
    "\n",
    "enc_functional = LabelEncoder()\n",
    "cate_cols['enc_functionalArea'] = enc_status.fit_transform(cate_cols['functionalArea'].astype(str))\n",
    "functional_len = len(cate_cols['enc_functionalArea'])\n",
    "\n",
    "\n",
    "# -------------------- 2. Embedding for categorical columns --------------------\n",
    "#jobtitle_input = Input(shape=(1,), name='jobTitle')\n",
    "#jobtitle_emb = Embedding(input_dim=jobtitle_len, output_dim=8)(jobtitle_input)\n",
    "#jobtitle_emb = Flatten()(jobtitle_emb)\n",
    "\n",
    "status_input = Input(shape=(1,), name='status')\n",
    "status_emb = Embedding(input_dim=status_len, output_dim=4)(status_input)\n",
    "status_emb = Flatten()(status_emb)\n",
    "\n",
    "functional_input = Input(shape=(1,), name='functionalArea')\n",
    "functional_emb = Embedding(input_dim=functional_len, output_dim=4)(functional_input)\n",
    "functional_emb = Flatten()(functional_emb)\n",
    "\n",
    "\n",
    "# -------------------- 3. Tokenize text columns --------------------\n",
    "desc_len = len(text_cols['description'])\n",
    "rs_len = len(text_cols['required_skills'])\n",
    "es_len = len(text_cols['employee_skills'])\n",
    "\n",
    "max_len = 500\n",
    "\n",
    "desc_token = Tokenizer(num_words = desc_len, oov_token = '<OOV>')\n",
    "desc_token.fit_on_texts(text_cols['description'].astype(str))\n",
    "desc_seq = pad_sequences(desc_token.texts_to_sequences(text_cols['description'].astype(str)), maxlen=max_len)\n",
    "\n",
    "rs_token = Tokenizer(num_words = rs_len, oov_token = '<OOV>')\n",
    "rs_token.fit_on_texts(text_cols['required_skills'].astype(str))\n",
    "rs_seq = pad_sequences(rs_token.texts_to_sequences(text_cols['required_skills'].astype(str)), maxlen=max_len)\n",
    "\n",
    "es_token = Tokenizer(num_words = es_len, oov_token = '<OOV>')\n",
    "es_token.fit_on_texts(text_cols['employee_skills'].astype(str))\n",
    "es_seq = pad_sequences(es_token.texts_to_sequences(text_cols['employee_skills'].astype(str)), maxlen=max_len)\n",
    "\n",
    "\n",
    "# -------------------- 4. CNN branch for text --------------------\n",
    "def cnn_text_branch(name, max_len, text_vocab_size):\n",
    "    text_input = Input(shape=(max_len,), name=name)\n",
    "    text_emb = Embedding(input_dim=text_vocab_size, output_dim=50)(text_input)\n",
    "    text_cov = Conv1D(filters=64, kernel_size=5, activation='relu')(text_emb)\n",
    "    text_pool = GlobalMaxPooling1D()(text_cov)\n",
    "\n",
    "    return text_input, text_pool\n",
    "\n",
    "desc_input, desc_features = cnn_text_branch('description', max_len, desc_len)\n",
    "rs_input, rs_features = cnn_text_branch('required_skills', max_len, rs_len)\n",
    "es_input, es_features = cnn_text_branch('employee_skills', max_len, es_len)\n",
    "\n",
    "\n",
    "# -------------------- 5. Merge all features --------------------\n",
    "all_features = concatenate([\n",
    "                functional_emb, status_emb, # jobtitle_emb,\n",
    "                desc_features, rs_features, es_features\n",
    "                          ])\n",
    "\n",
    "dense1 = Dense(128, activation='relu')(all_features)\n",
    "dropout1 = Dropout(0.3)(dense1)\n",
    "dense2 = Dense(64, activation='relu')(dropout1)\n",
    "output  = Dense(10, activation='softmax')(dense2)\n",
    "\n",
    "\n",
    "# -------------------- 6. Model --------------------\n",
    "model = Model(\n",
    "    inputs=[ status_input, functional_input,\n",
    "             desc_input, rs_input, es_input\n",
    "           ],\n",
    "\n",
    "    outputs = output\n",
    "             )"
   ]
  },
  {
   "cell_type": "code",
   "execution_count": 198,
   "id": "5787ec2a-42c7-41c0-805a-95ab760d5910",
   "metadata": {},
   "outputs": [],
   "source": [
    "model.compile(optimizer=\"adam\", loss=\"categorical_crossentropy\", metrics=[\"accuracy\"])\n",
    "#model.summary()"
   ]
  },
  {
   "cell_type": "code",
   "execution_count": 199,
   "id": "88f3edbb-23e6-4b59-a964-471979b6bfc7",
   "metadata": {},
   "outputs": [
    {
     "name": "stdout",
     "output_type": "stream",
     "text": [
      "\u001b[1m76/76\u001b[0m \u001b[32m━━━━━━━━━━━━━━━━━━━━\u001b[0m\u001b[37m\u001b[0m \u001b[1m7s\u001b[0m 84ms/step\n",
      "Prediction probabilities: [[0.09811763 0.09539012 0.1019107  ... 0.1006568  0.10064077 0.10090604]\n",
      " [0.09906507 0.0947371  0.10327054 ... 0.1010947  0.101675   0.09994814]\n",
      " [0.09824561 0.09612384 0.10241286 ... 0.10086281 0.10176491 0.10078271]\n",
      " ...\n",
      " [0.09971999 0.09849508 0.10106662 ... 0.09927672 0.09962968 0.10153285]\n",
      " [0.09942234 0.0992817  0.10135785 ... 0.0991715  0.09903778 0.10241522]\n",
      " [0.09971999 0.09849508 0.10106662 ... 0.09927672 0.09962968 0.10153285]]\n",
      "Predicted class: 716\n"
     ]
    }
   ],
   "source": [
    "pred = model.predict([\n",
    "    #cate_cols['enc_jobtitle'].values,\n",
    "    cate_cols['enc_status'].values,\n",
    "    cate_cols['enc_functionalArea'].values,\n",
    "    desc_seq,\n",
    "    rs_seq,\n",
    "    es_seq\n",
    "])\n",
    "\n",
    "print(\"Prediction probabilities:\", pred)\n",
    "print(\"Predicted class:\", np.argmax(pred))"
   ]
  },
  {
   "cell_type": "code",
   "execution_count": 180,
   "id": "d4333c5b-c667-499e-843d-ad58408db8ae",
   "metadata": {},
   "outputs": [
    {
     "name": "stdout",
     "output_type": "stream",
     "text": [
      "Predicted jobTitle:  Sr.Oracle Cloud Finance Functional Consultant \n"
     ]
    }
   ],
   "source": [
    "predicted_index = np.argmax(pred, axis=1)\n",
    "\n",
    "y = enc_jobtitle.fit_transform(cate_cols['jobTitle']) \n",
    "\n",
    "predicted_jobTitle = enc_jobtitle.inverse_transform(predicted_index)\n",
    "print(\"Predicted jobTitle:\", predicted_jobTitle[0])"
   ]
  },
  {
   "cell_type": "markdown",
   "id": "876095a7-f707-4ecb-bc2e-256ac598a4a3",
   "metadata": {},
   "source": [
    "## Our own Prediction of the job"
   ]
  },
  {
   "cell_type": "code",
   "execution_count": 203,
   "id": "fe6e6d40-4140-4608-a8df-bd4887909c1a",
   "metadata": {},
   "outputs": [
    {
     "name": "stdout",
     "output_type": "stream",
     "text": [
      "\u001b[1m1/1\u001b[0m \u001b[32m━━━━━━━━━━━━━━━━━━━━\u001b[0m\u001b[37m\u001b[0m \u001b[1m0s\u001b[0m 153ms/step\n",
      "Prediction probabilities: [[0.09497931 0.09416872 0.10142311 0.09903959 0.1024613  0.09985645\n",
      "  0.10452159 0.1014593  0.10056298 0.10152763]]\n",
      "Predicted class: 6\n"
     ]
    }
   ],
   "source": [
    "data = {\n",
    "    'Description': ['I understand computer languages and also, I solved many projects in AI and Machine Learning'],\n",
    "    'Status': ['Active'],\n",
    "    'Required_Skills': ['computer languages'],\n",
    "    'FunctionalArea': ['Computer Science'],\n",
    "    'Employee_Skills': ['I am a programmer and I can do whatever you want'],\n",
    "}\n",
    "\n",
    "#******************* Encoding Categorical features ******************\n",
    "data['enc_sta'] = enc_status.fit_transform(list(map(str, data['Status'])))\n",
    "data['enc_fun'] = enc_functional.fit_transform(list(map(str, data['FunctionalArea'])))\n",
    "\n",
    "\n",
    "#******************* Sequence Texts features ******************\n",
    "max_len = 500\n",
    "\n",
    "desc_seq = pad_sequences(desc_token.texts_to_sequences(list(map(str, data['Description']))), maxlen=max_len)\n",
    "req_seq  = pad_sequences(desc_token.texts_to_sequences(list(map(str, data['Required_Skills']))), maxlen=max_len)\n",
    "emp_seq  = pad_sequences(desc_token.texts_to_sequences(list(map(str, data['Employee_Skills']))), maxlen=max_len)\n",
    "\n",
    "\n",
    "\n",
    "#*********************** Prediction *********************\n",
    "y_pred = model.predict([\n",
    "                        data['enc_sta'],\n",
    "                        data['enc_fun'],\n",
    "                        desc_seq,\n",
    "                        req_seq,\n",
    "                        emp_seq\n",
    "])\n",
    "\n",
    "print(\"Prediction probabilities:\", y_pred)\n",
    "print(\"Predicted class:\", np.argmax(y_pred))"
   ]
  },
  {
   "cell_type": "code",
   "execution_count": 206,
   "id": "ab87f79f-1bf8-4619-a3e8-095eca562a14",
   "metadata": {},
   "outputs": [
    {
     "name": "stdout",
     "output_type": "stream",
     "text": [
      "Predicted jobTitle:  Technical Systems Analyst \n"
     ]
    }
   ],
   "source": [
    "max_predicted = np.argmax(y_pred, axis=1)\n",
    "\n",
    "y = enc_jobtitle.fit_transform(total_df['jobTitle']) \n",
    "\n",
    "predicted_Jobtitle = enc_jobtitle.inverse_transform(max_predicted)\n",
    "print(\"Predicted jobTitle:\", predicted_Jobtitle[0])"
   ]
  },
  {
   "cell_type": "code",
   "execution_count": 214,
   "id": "711199d6-21ef-4981-a98c-94a436272c3d",
   "metadata": {},
   "outputs": [
    {
     "data": {
      "text/plain": [
       "\"\\nle = LabelEncoder()\\ntotal_df['jobTitle_enc'] = le.fit_transform(total_df['jobTitle'])\\n\\nprint(le.classes_)\\n\""
      ]
     },
     "execution_count": 214,
     "metadata": {},
     "output_type": "execute_result"
    }
   ],
   "source": [
    "'''\n",
    "le = LabelEncoder()\n",
    "total_df['jobTitle_enc'] = le.fit_transform(total_df['jobTitle'])\n",
    "\n",
    "print(le.classes_)\n",
    "'''"
   ]
  },
  {
   "cell_type": "code",
   "execution_count": null,
   "id": "a3f42686-4786-4b28-87b1-a10e18ca6e53",
   "metadata": {},
   "outputs": [],
   "source": []
  }
 ],
 "metadata": {
  "kernelspec": {
   "display_name": "Python 3 (ipykernel)",
   "language": "python",
   "name": "python3"
  },
  "language_info": {
   "codemirror_mode": {
    "name": "ipython",
    "version": 3
   },
   "file_extension": ".py",
   "mimetype": "text/x-python",
   "name": "python",
   "nbconvert_exporter": "python",
   "pygments_lexer": "ipython3",
   "version": "3.12.7"
  }
 },
 "nbformat": 4,
 "nbformat_minor": 5
}
