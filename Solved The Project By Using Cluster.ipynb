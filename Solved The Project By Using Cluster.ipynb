{
 "cells": [
  {
   "cell_type": "code",
   "execution_count": 210,
   "id": "4f41fd00-4bc7-4252-b0b3-dfd4b695cd82",
   "metadata": {
    "scrolled": true
   },
   "outputs": [
    {
     "name": "stdout",
     "output_type": "stream",
     "text": [
      " Volume in drive C has no label.\n",
      " Volume Serial Number is 2C28-A088\n",
      "\n",
      " Directory of C:\\Users\\Mewandi\\Desktop\\AI_Projects\\Job_Recommendation_Engine\n",
      "\n",
      "08/19/2025  10:19 AM    <DIR>          .\n",
      "08/19/2025  10:19 AM    <DIR>          ..\n",
      "08/18/2025  02:41 PM    <DIR>          .ipynb_checkpoints\n",
      "08/05/2025  12:58 PM            20,878 education.csv\n",
      "08/05/2025  12:58 PM           641,984 employment.csv\n",
      "08/03/2025  11:36 PM           221,690 Explination.jpeg\n",
      "08/05/2025  12:58 PM           349,053 jobs.csv\n",
      "08/18/2025  02:49 PM            57,156 MultinomialNB_solved.ipynb\n",
      "08/19/2025  10:19 AM            41,724 Untitled-Copy1.ipynb\n",
      "08/15/2025  11:41 AM               337 Using CNN.ipynb\n",
      "               7 File(s)      1,332,822 bytes\n",
      "               3 Dir(s)  508,161,916,928 bytes free\n"
     ]
    }
   ],
   "source": [
    "ls"
   ]
  },
  {
   "cell_type": "code",
   "execution_count": 211,
   "id": "f4f8a866-2988-415c-b2c3-c10a5774add8",
   "metadata": {},
   "outputs": [],
   "source": [
    "import numpy as np\n",
    "import pandas as pd"
   ]
  },
  {
   "cell_type": "code",
   "execution_count": 212,
   "id": "5d99e9d4-e7a6-4b0b-a6d9-360e26c3623f",
   "metadata": {},
   "outputs": [
    {
     "data": {
      "text/plain": [
       "Index(['jobTitle', 'position', 'minBudget', 'maxBudget', 'travelReq',\n",
       "       'location', 'description', 'attachment', 'orgId', 'jobType', 'skills',\n",
       "       'recruiter', 'client', 'minExp', 'maxExp', 'noticePeriod', 'status',\n",
       "       'jobId', 'createDate', 'vacancies', 'priority', 'priceType', 'workType',\n",
       "       'comment', 'subvendorId', 'Questionnaires', 'country', 'department',\n",
       "       'eligibility', 'responsibilities'],\n",
       "      dtype='object')"
      ]
     },
     "execution_count": 212,
     "metadata": {},
     "output_type": "execute_result"
    }
   ],
   "source": [
    "job_df = pd.read_csv(\"jobs.csv\")\n",
    "\n",
    "job_df.columns"
   ]
  },
  {
   "cell_type": "code",
   "execution_count": 213,
   "id": "d46834f7-02dc-41ea-a2a8-a9db78d51081",
   "metadata": {
    "scrolled": true
   },
   "outputs": [
    {
     "data": {
      "text/plain": [
       "jobTitle              0.000000\n",
       "position              0.000000\n",
       "minBudget             0.325733\n",
       "maxBudget             0.325733\n",
       "travelReq             0.000000\n",
       "location              0.000000\n",
       "description           0.000000\n",
       "attachment           77.850163\n",
       "orgId                 0.000000\n",
       "jobType               0.000000\n",
       "skills                0.000000\n",
       "recruiter             0.000000\n",
       "client                0.000000\n",
       "minExp                0.000000\n",
       "maxExp                0.000000\n",
       "noticePeriod          0.000000\n",
       "status                0.000000\n",
       "jobId                 0.000000\n",
       "createDate            0.000000\n",
       "vacancies            12.052117\n",
       "priority             14.657980\n",
       "priceType            16.286645\n",
       "workType             15.635179\n",
       "comment              98.371336\n",
       "subvendorId         100.000000\n",
       "Questionnaires      100.000000\n",
       "country              95.114007\n",
       "department          100.000000\n",
       "eligibility         100.000000\n",
       "responsibilities    100.000000\n",
       "dtype: float64"
      ]
     },
     "execution_count": 213,
     "metadata": {},
     "output_type": "execute_result"
    }
   ],
   "source": [
    "100 * job_df.isnull().sum() / len(job_df)"
   ]
  },
  {
   "cell_type": "markdown",
   "id": "1efcfd16-2957-488a-8d1b-463825bd75c7",
   "metadata": {},
   "source": [
    "#### IDs, duplicates, or any column with >95% missing values"
   ]
  },
  {
   "cell_type": "code",
   "execution_count": 214,
   "id": "7c30cd4f-bd1d-478c-90db-d291af361e39",
   "metadata": {},
   "outputs": [],
   "source": [
    "job_df = job_df.drop(columns=['comment'])\n",
    "job_df = job_df.drop(columns=['subvendorId']) \n",
    "job_df = job_df.drop(columns=['Questionnaires']) \n",
    "job_df = job_df.drop(columns=['country']) \n",
    "job_df = job_df.drop(columns=['department']) \n",
    "job_df = job_df.drop(columns=['eligibility']) \n",
    "job_df = job_df.drop(columns=['responsibilities']) \n",
    "job_df = job_df.drop(columns=['orgId']) \n",
    "job_df = job_df.drop(columns=['jobId'])\n",
    "job_df = job_df.drop(columns=['client'])"
   ]
  },
  {
   "cell_type": "code",
   "execution_count": 215,
   "id": "6bfee146-ab9d-495e-99b7-11f5fcf03681",
   "metadata": {},
   "outputs": [
    {
     "data": {
      "text/plain": [
       "Index(['jobTitle', 'position', 'minBudget', 'maxBudget', 'travelReq',\n",
       "       'location', 'description', 'attachment', 'jobType', 'skills',\n",
       "       'recruiter', 'minExp', 'maxExp', 'noticePeriod', 'status', 'createDate',\n",
       "       'vacancies', 'priority', 'priceType', 'workType'],\n",
       "      dtype='object')"
      ]
     },
     "execution_count": 215,
     "metadata": {},
     "output_type": "execute_result"
    }
   ],
   "source": [
    "job_df.columns"
   ]
  },
  {
   "cell_type": "code",
   "execution_count": 216,
   "id": "78227807-b7ca-4951-b12a-ec65904fd9a2",
   "metadata": {},
   "outputs": [
    {
     "data": {
      "text/html": [
       "<div>\n",
       "<style scoped>\n",
       "    .dataframe tbody tr th:only-of-type {\n",
       "        vertical-align: middle;\n",
       "    }\n",
       "\n",
       "    .dataframe tbody tr th {\n",
       "        vertical-align: top;\n",
       "    }\n",
       "\n",
       "    .dataframe thead th {\n",
       "        text-align: right;\n",
       "    }\n",
       "</style>\n",
       "<table border=\"1\" class=\"dataframe\">\n",
       "  <thead>\n",
       "    <tr style=\"text-align: right;\">\n",
       "      <th></th>\n",
       "      <th>jobTitle</th>\n",
       "      <th>position</th>\n",
       "      <th>minBudget</th>\n",
       "      <th>maxBudget</th>\n",
       "      <th>travelReq</th>\n",
       "      <th>location</th>\n",
       "      <th>description</th>\n",
       "      <th>attachment</th>\n",
       "      <th>jobType</th>\n",
       "      <th>skills</th>\n",
       "      <th>recruiter</th>\n",
       "      <th>minExp</th>\n",
       "      <th>maxExp</th>\n",
       "      <th>noticePeriod</th>\n",
       "      <th>status</th>\n",
       "      <th>createDate</th>\n",
       "      <th>vacancies</th>\n",
       "      <th>priority</th>\n",
       "      <th>priceType</th>\n",
       "      <th>workType</th>\n",
       "    </tr>\n",
       "  </thead>\n",
       "  <tbody>\n",
       "    <tr>\n",
       "      <th>0</th>\n",
       "      <td>Plant Maintenance Engineer</td>\n",
       "      <td>Plant Maintenance Engineer</td>\n",
       "      <td>300000.0</td>\n",
       "      <td>600000.0</td>\n",
       "      <td>True</td>\n",
       "      <td>{Hyderabad}</td>\n",
       "      <td>Read and understand the data from P&amp;ID, PEFS, ...</td>\n",
       "      <td>NaN</td>\n",
       "      <td>Permanent</td>\n",
       "      <td>{\"Plant Maintenance\"}</td>\n",
       "      <td>DB413862</td>\n",
       "      <td>2.0</td>\n",
       "      <td>5.0</td>\n",
       "      <td>15-30 days</td>\n",
       "      <td>Active</td>\n",
       "      <td>2023-01-31 11:09:26.36189</td>\n",
       "      <td>2.0</td>\n",
       "      <td>High</td>\n",
       "      <td>INR</td>\n",
       "      <td>Work from Office</td>\n",
       "    </tr>\n",
       "  </tbody>\n",
       "</table>\n",
       "</div>"
      ],
      "text/plain": [
       "                     jobTitle                    position  minBudget  \\\n",
       "0  Plant Maintenance Engineer  Plant Maintenance Engineer   300000.0   \n",
       "\n",
       "   maxBudget  travelReq     location  \\\n",
       "0   600000.0       True  {Hyderabad}   \n",
       "\n",
       "                                         description attachment    jobType  \\\n",
       "0  Read and understand the data from P&ID, PEFS, ...        NaN  Permanent   \n",
       "\n",
       "                  skills recruiter  minExp  maxExp noticePeriod  status  \\\n",
       "0  {\"Plant Maintenance\"}  DB413862     2.0     5.0   15-30 days  Active   \n",
       "\n",
       "                  createDate  vacancies priority priceType          workType  \n",
       "0  2023-01-31 11:09:26.36189        2.0     High       INR  Work from Office  "
      ]
     },
     "execution_count": 216,
     "metadata": {},
     "output_type": "execute_result"
    }
   ],
   "source": [
    "job_df.head(1)"
   ]
  },
  {
   "cell_type": "code",
   "execution_count": 217,
   "id": "7a7c4b65-090c-4058-b1a8-374651e40eaa",
   "metadata": {},
   "outputs": [
    {
     "data": {
      "text/plain": [
       "minBudget    1.000000\n",
       "maxBudget    0.842138\n",
       "travelReq    0.092756\n",
       "minExp       0.038783\n",
       "maxExp       0.037647\n",
       "vacancies   -0.007996\n",
       "Name: minBudget, dtype: float64"
      ]
     },
     "execution_count": 217,
     "metadata": {},
     "output_type": "execute_result"
    }
   ],
   "source": [
    "job_df.corr(numeric_only=True)['minBudget']"
   ]
  },
  {
   "cell_type": "code",
   "execution_count": 218,
   "id": "00d91827-f834-4637-925e-debfbe0544e8",
   "metadata": {},
   "outputs": [
    {
     "data": {
      "text/plain": [
       "array([False, False, False, False, False, False, False, False, False,\n",
       "       False, False, False, False, False, False, False, False, False,\n",
       "       False, False])"
      ]
     },
     "execution_count": 218,
     "metadata": {},
     "output_type": "execute_result"
    }
   ],
   "source": [
    "job_df.columns.duplicated()"
   ]
  },
  {
   "cell_type": "code",
   "execution_count": 219,
   "id": "38960c7a-68e3-44b5-9674-6c58874268ad",
   "metadata": {},
   "outputs": [],
   "source": [
    "job_col_df = job_df[['jobTitle', 'description', 'status', 'skills']]\n",
    "#job_col_df"
   ]
  },
  {
   "cell_type": "markdown",
   "id": "3f01b378-8af0-4590-8974-7568bc24bdf9",
   "metadata": {},
   "source": [
    "### Employ chossing columns"
   ]
  },
  {
   "cell_type": "code",
   "execution_count": 220,
   "id": "746ee726-d02c-40d4-97a4-a3ddd42828b9",
   "metadata": {},
   "outputs": [
    {
     "data": {
      "text/plain": [
       "Index(['employmentId', 'uploadResume', 'currentCompany', 'currentDesignation',\n",
       "       'annualSalary', 'industry', 'functionalArea', 'role', 'currentLocation',\n",
       "       'orgId', 'noticePeriod', 'skills', 'totalWorkExp', 'minExp', 'maxExp',\n",
       "       'applicantId', 'preferedLocation', 'holdingAnyOffer', 'expectedCtc',\n",
       "       'feedback', 'comment', 'isCurrent', 'companyEmail', 'packageOffered',\n",
       "       'lastWorkingDay', 'remarks', 'previousCompany', 'offerLetter',\n",
       "       'experienceLetter', 'relieveingLetter', 'isRecent', 'paySlips',\n",
       "       'createdOn'],\n",
       "      dtype='object')"
      ]
     },
     "execution_count": 220,
     "metadata": {},
     "output_type": "execute_result"
    }
   ],
   "source": [
    "emp_df = pd.read_csv(\"employment.csv\")\n",
    "\n",
    "emp_df.columns"
   ]
  },
  {
   "cell_type": "code",
   "execution_count": 221,
   "id": "72a27223-d00b-432f-9d1d-1fc58233e8e1",
   "metadata": {},
   "outputs": [],
   "source": [
    "emp_df = emp_df.drop(columns=['employmentId'])\n",
    "emp_df = emp_df.drop(columns=['applicantId'])\n",
    "emp_df = emp_df.drop(columns=['orgId'])"
   ]
  },
  {
   "cell_type": "code",
   "execution_count": 222,
   "id": "b193f825-1409-45bc-8a37-18fd55e68c8c",
   "metadata": {
    "scrolled": true
   },
   "outputs": [
    {
     "data": {
      "text/plain": [
       "uploadResume           23.773225\n",
       "currentCompany          4.621248\n",
       "currentDesignation      2.048595\n",
       "annualSalary            5.002382\n",
       "industry                4.525965\n",
       "functionalArea          5.383516\n",
       "role                  100.000000\n",
       "currentLocation         4.764173\n",
       "noticePeriod            8.575512\n",
       "skills                  0.000000\n",
       "totalWorkExp            4.621248\n",
       "minExp                100.000000\n",
       "maxExp                100.000000\n",
       "preferedLocation       26.822296\n",
       "holdingAnyOffer        27.870414\n",
       "expectedCtc            26.679371\n",
       "feedback               98.999524\n",
       "comment                92.424964\n",
       "isCurrent              43.163411\n",
       "companyEmail           66.936636\n",
       "packageOffered         99.285374\n",
       "lastWorkingDay         98.999524\n",
       "remarks                97.189138\n",
       "previousCompany       100.000000\n",
       "offerLetter           100.000000\n",
       "experienceLetter      100.000000\n",
       "relieveingLetter      100.000000\n",
       "isRecent              100.000000\n",
       "paySlips              100.000000\n",
       "createdOn               0.000000\n",
       "dtype: float64"
      ]
     },
     "execution_count": 222,
     "metadata": {},
     "output_type": "execute_result"
    }
   ],
   "source": [
    "100 * emp_df.isnull().sum() / len(emp_df)"
   ]
  },
  {
   "cell_type": "code",
   "execution_count": 223,
   "id": "a332216d-5898-4da2-b45e-9cc58396d04e",
   "metadata": {},
   "outputs": [
    {
     "data": {
      "text/html": [
       "<div>\n",
       "<style scoped>\n",
       "    .dataframe tbody tr th:only-of-type {\n",
       "        vertical-align: middle;\n",
       "    }\n",
       "\n",
       "    .dataframe tbody tr th {\n",
       "        vertical-align: top;\n",
       "    }\n",
       "\n",
       "    .dataframe thead th {\n",
       "        text-align: right;\n",
       "    }\n",
       "</style>\n",
       "<table border=\"1\" class=\"dataframe\">\n",
       "  <thead>\n",
       "    <tr style=\"text-align: right;\">\n",
       "      <th></th>\n",
       "      <th>uploadResume</th>\n",
       "      <th>currentCompany</th>\n",
       "      <th>currentDesignation</th>\n",
       "      <th>annualSalary</th>\n",
       "      <th>industry</th>\n",
       "      <th>functionalArea</th>\n",
       "      <th>role</th>\n",
       "      <th>currentLocation</th>\n",
       "      <th>noticePeriod</th>\n",
       "      <th>skills</th>\n",
       "      <th>...</th>\n",
       "      <th>packageOffered</th>\n",
       "      <th>lastWorkingDay</th>\n",
       "      <th>remarks</th>\n",
       "      <th>previousCompany</th>\n",
       "      <th>offerLetter</th>\n",
       "      <th>experienceLetter</th>\n",
       "      <th>relieveingLetter</th>\n",
       "      <th>isRecent</th>\n",
       "      <th>paySlips</th>\n",
       "      <th>createdOn</th>\n",
       "    </tr>\n",
       "  </thead>\n",
       "  <tbody>\n",
       "    <tr>\n",
       "      <th>0</th>\n",
       "      <td>NaN</td>\n",
       "      <td>ESMOB Technologies</td>\n",
       "      <td>React JS Developer</td>\n",
       "      <td>3.5</td>\n",
       "      <td>1.0</td>\n",
       "      <td>Software Developer</td>\n",
       "      <td>NaN</td>\n",
       "      <td>Hyderabad</td>\n",
       "      <td>NaN</td>\n",
       "      <td>{css,js}</td>\n",
       "      <td>...</td>\n",
       "      <td>NaN</td>\n",
       "      <td>NaN</td>\n",
       "      <td>NaN</td>\n",
       "      <td>NaN</td>\n",
       "      <td>NaN</td>\n",
       "      <td>NaN</td>\n",
       "      <td>NaN</td>\n",
       "      <td>NaN</td>\n",
       "      <td>NaN</td>\n",
       "      <td>2024-03-08 08:49:43.960932</td>\n",
       "    </tr>\n",
       "    <tr>\n",
       "      <th>1</th>\n",
       "      <td>NaN</td>\n",
       "      <td>Lejara Global IT Solutions Pvt. Ltd</td>\n",
       "      <td>RPA Developer</td>\n",
       "      <td>4.5</td>\n",
       "      <td>1.0</td>\n",
       "      <td>Software Developer</td>\n",
       "      <td>NaN</td>\n",
       "      <td>Hyderabad</td>\n",
       "      <td>NaN</td>\n",
       "      <td>{RPA,python}</td>\n",
       "      <td>...</td>\n",
       "      <td>NaN</td>\n",
       "      <td>NaN</td>\n",
       "      <td>NaN</td>\n",
       "      <td>NaN</td>\n",
       "      <td>NaN</td>\n",
       "      <td>NaN</td>\n",
       "      <td>NaN</td>\n",
       "      <td>NaN</td>\n",
       "      <td>NaN</td>\n",
       "      <td>2024-03-08 08:49:43.960932</td>\n",
       "    </tr>\n",
       "  </tbody>\n",
       "</table>\n",
       "<p>2 rows × 30 columns</p>\n",
       "</div>"
      ],
      "text/plain": [
       "  uploadResume                       currentCompany  currentDesignation  \\\n",
       "0          NaN                   ESMOB Technologies  React JS Developer   \n",
       "1          NaN  Lejara Global IT Solutions Pvt. Ltd       RPA Developer   \n",
       "\n",
       "  annualSalary  industry      functionalArea  role currentLocation  \\\n",
       "0          3.5       1.0  Software Developer   NaN       Hyderabad   \n",
       "1          4.5       1.0  Software Developer   NaN       Hyderabad   \n",
       "\n",
       "  noticePeriod        skills  ...  packageOffered  lastWorkingDay  remarks  \\\n",
       "0          NaN      {css,js}  ...             NaN             NaN      NaN   \n",
       "1          NaN  {RPA,python}  ...             NaN             NaN      NaN   \n",
       "\n",
       "  previousCompany offerLetter experienceLetter relieveingLetter isRecent  \\\n",
       "0             NaN         NaN              NaN              NaN      NaN   \n",
       "1             NaN         NaN              NaN              NaN      NaN   \n",
       "\n",
       "  paySlips                   createdOn  \n",
       "0      NaN  2024-03-08 08:49:43.960932  \n",
       "1      NaN  2024-03-08 08:49:43.960932  \n",
       "\n",
       "[2 rows x 30 columns]"
      ]
     },
     "execution_count": 223,
     "metadata": {},
     "output_type": "execute_result"
    }
   ],
   "source": [
    "emp_df.head(2)"
   ]
  },
  {
   "cell_type": "code",
   "execution_count": 224,
   "id": "6b112f0b-74a0-428c-9327-ecdf05934ac4",
   "metadata": {},
   "outputs": [],
   "source": [
    "emp_cols_df = emp_df[['functionalArea', 'skills']]"
   ]
  },
  {
   "cell_type": "markdown",
   "id": "441e9666-166b-4b17-ba6d-262cefa4c917",
   "metadata": {},
   "source": [
    "### Education chossing columns"
   ]
  },
  {
   "cell_type": "code",
   "execution_count": 225,
   "id": "56a16245-8455-4ff0-bd9e-4b100dc8795d",
   "metadata": {},
   "outputs": [
    {
     "data": {
      "text/plain": [
       "Index(['Id', 'primarySchool', 'primaryPercentage', 'primaryPassoutYear',\n",
       "       'secondarySchool', 'secondaryPercentage', 'secondaryPassoutYear',\n",
       "       'graduation', 'graduationPercentage', 'graduationPassoutYear', 'orgId',\n",
       "       'applicantId', 'certificates', 'name', 'degree', 'fieldOfStudy',\n",
       "       'percentage', 'certificate', 'createdOn'],\n",
       "      dtype='object')"
      ]
     },
     "execution_count": 225,
     "metadata": {},
     "output_type": "execute_result"
    }
   ],
   "source": [
    "edu_df = pd.read_csv(\"education.csv\")\n",
    "\n",
    "edu_df.columns"
   ]
  },
  {
   "cell_type": "code",
   "execution_count": 226,
   "id": "5ff35512-6685-4b12-b7ee-11137ec7aff5",
   "metadata": {},
   "outputs": [],
   "source": [
    "edu_df = edu_df.drop(columns=['Id'])\n",
    "edu_df = edu_df.drop(columns=['applicantId'])\n",
    "edu_df = edu_df.drop(columns=['orgId'])"
   ]
  },
  {
   "cell_type": "code",
   "execution_count": 227,
   "id": "ad045f22-e279-45b9-8d07-131f1fe0cd53",
   "metadata": {},
   "outputs": [
    {
     "data": {
      "text/html": [
       "<div>\n",
       "<style scoped>\n",
       "    .dataframe tbody tr th:only-of-type {\n",
       "        vertical-align: middle;\n",
       "    }\n",
       "\n",
       "    .dataframe tbody tr th {\n",
       "        vertical-align: top;\n",
       "    }\n",
       "\n",
       "    .dataframe thead th {\n",
       "        text-align: right;\n",
       "    }\n",
       "</style>\n",
       "<table border=\"1\" class=\"dataframe\">\n",
       "  <thead>\n",
       "    <tr style=\"text-align: right;\">\n",
       "      <th></th>\n",
       "      <th>primarySchool</th>\n",
       "      <th>primaryPercentage</th>\n",
       "      <th>primaryPassoutYear</th>\n",
       "      <th>secondarySchool</th>\n",
       "      <th>secondaryPercentage</th>\n",
       "      <th>secondaryPassoutYear</th>\n",
       "      <th>graduation</th>\n",
       "      <th>graduationPercentage</th>\n",
       "      <th>graduationPassoutYear</th>\n",
       "      <th>certificates</th>\n",
       "      <th>name</th>\n",
       "      <th>degree</th>\n",
       "      <th>fieldOfStudy</th>\n",
       "      <th>percentage</th>\n",
       "      <th>certificate</th>\n",
       "      <th>createdOn</th>\n",
       "    </tr>\n",
       "  </thead>\n",
       "  <tbody>\n",
       "    <tr>\n",
       "      <th>0</th>\n",
       "      <td>NaN</td>\n",
       "      <td>0</td>\n",
       "      <td>0</td>\n",
       "      <td>NaN</td>\n",
       "      <td>0.0</td>\n",
       "      <td>0</td>\n",
       "      <td>NaN</td>\n",
       "      <td>0.0</td>\n",
       "      <td>0</td>\n",
       "      <td>NaN</td>\n",
       "      <td>NaN</td>\n",
       "      <td>NaN</td>\n",
       "      <td>NaN</td>\n",
       "      <td>NaN</td>\n",
       "      <td>NaN</td>\n",
       "      <td>2024-03-08 08:48:16.349684</td>\n",
       "    </tr>\n",
       "    <tr>\n",
       "      <th>1</th>\n",
       "      <td>Marks High school</td>\n",
       "      <td>86</td>\n",
       "      <td>1999</td>\n",
       "      <td>Marks High school</td>\n",
       "      <td>80.0</td>\n",
       "      <td>2001</td>\n",
       "      <td>NaN</td>\n",
       "      <td>0.0</td>\n",
       "      <td>0</td>\n",
       "      <td>NaN</td>\n",
       "      <td>NaN</td>\n",
       "      <td>NaN</td>\n",
       "      <td>NaN</td>\n",
       "      <td>NaN</td>\n",
       "      <td>NaN</td>\n",
       "      <td>2024-03-08 08:48:16.349684</td>\n",
       "    </tr>\n",
       "    <tr>\n",
       "      <th>2</th>\n",
       "      <td>NaN</td>\n",
       "      <td>0</td>\n",
       "      <td>0</td>\n",
       "      <td>NaN</td>\n",
       "      <td>0.0</td>\n",
       "      <td>0</td>\n",
       "      <td>NaN</td>\n",
       "      <td>0.0</td>\n",
       "      <td>0</td>\n",
       "      <td>NaN</td>\n",
       "      <td>NaN</td>\n",
       "      <td>NaN</td>\n",
       "      <td>NaN</td>\n",
       "      <td>NaN</td>\n",
       "      <td>NaN</td>\n",
       "      <td>2024-03-08 08:48:16.349684</td>\n",
       "    </tr>\n",
       "  </tbody>\n",
       "</table>\n",
       "</div>"
      ],
      "text/plain": [
       "       primarySchool  primaryPercentage  primaryPassoutYear  \\\n",
       "0                NaN                  0                   0   \n",
       "1  Marks High school                 86                1999   \n",
       "2                NaN                  0                   0   \n",
       "\n",
       "     secondarySchool  secondaryPercentage  secondaryPassoutYear graduation  \\\n",
       "0                NaN                  0.0                     0        NaN   \n",
       "1  Marks High school                 80.0                  2001        NaN   \n",
       "2                NaN                  0.0                     0        NaN   \n",
       "\n",
       "   graduationPercentage  graduationPassoutYear certificates  name  degree  \\\n",
       "0                   0.0                      0          NaN   NaN     NaN   \n",
       "1                   0.0                      0          NaN   NaN     NaN   \n",
       "2                   0.0                      0          NaN   NaN     NaN   \n",
       "\n",
       "   fieldOfStudy  percentage  certificate                   createdOn  \n",
       "0           NaN         NaN          NaN  2024-03-08 08:48:16.349684  \n",
       "1           NaN         NaN          NaN  2024-03-08 08:48:16.349684  \n",
       "2           NaN         NaN          NaN  2024-03-08 08:48:16.349684  "
      ]
     },
     "execution_count": 227,
     "metadata": {},
     "output_type": "execute_result"
    }
   ],
   "source": [
    "edu_df.head(3)"
   ]
  },
  {
   "cell_type": "code",
   "execution_count": 228,
   "id": "f242aa1d-7a63-48aa-aac0-51bf5616b29f",
   "metadata": {},
   "outputs": [
    {
     "data": {
      "text/plain": [
       "primarySchool             94.148936\n",
       "primaryPercentage          0.000000\n",
       "primaryPassoutYear         0.000000\n",
       "secondarySchool           95.744681\n",
       "secondaryPercentage        0.000000\n",
       "secondaryPassoutYear       0.000000\n",
       "graduation                95.212766\n",
       "graduationPercentage       0.000000\n",
       "graduationPassoutYear      0.000000\n",
       "certificates              92.021277\n",
       "name                     100.000000\n",
       "degree                   100.000000\n",
       "fieldOfStudy             100.000000\n",
       "percentage               100.000000\n",
       "certificate              100.000000\n",
       "createdOn                  0.000000\n",
       "dtype: float64"
      ]
     },
     "execution_count": 228,
     "metadata": {},
     "output_type": "execute_result"
    }
   ],
   "source": [
    "100 * edu_df.isnull().sum() / len(edu_df)"
   ]
  },
  {
   "cell_type": "markdown",
   "id": "f67b7571-b6eb-462f-bb2e-f4d7ac875d8d",
   "metadata": {},
   "source": [
    "### Let's combine all datas to make one"
   ]
  },
  {
   "cell_type": "code",
   "execution_count": 229,
   "id": "195a8865-114c-4d79-ae07-e4825343e69e",
   "metadata": {},
   "outputs": [
    {
     "name": "stderr",
     "output_type": "stream",
     "text": [
      "C:\\Users\\Mewandi\\AppData\\Local\\Temp\\ipykernel_13716\\1312139321.py:1: SettingWithCopyWarning: \n",
      "A value is trying to be set on a copy of a slice from a DataFrame\n",
      "\n",
      "See the caveats in the documentation: https://pandas.pydata.org/pandas-docs/stable/user_guide/indexing.html#returning-a-view-versus-a-copy\n",
      "  job_col_df.rename(columns={'skills': 'required_skills'}, inplace=True)\n",
      "C:\\Users\\Mewandi\\AppData\\Local\\Temp\\ipykernel_13716\\1312139321.py:2: SettingWithCopyWarning: \n",
      "A value is trying to be set on a copy of a slice from a DataFrame\n",
      "\n",
      "See the caveats in the documentation: https://pandas.pydata.org/pandas-docs/stable/user_guide/indexing.html#returning-a-view-versus-a-copy\n",
      "  emp_cols_df.rename(columns={'skills': 'employee_skills'}, inplace=True)\n"
     ]
    }
   ],
   "source": [
    "job_col_df.rename(columns={'skills': 'required_skills'}, inplace=True)\n",
    "emp_cols_df.rename(columns={'skills': 'employee_skills'}, inplace=True)"
   ]
  },
  {
   "cell_type": "code",
   "execution_count": 230,
   "id": "1e22c886-9f93-41b6-83b3-d13066dfc040",
   "metadata": {},
   "outputs": [],
   "source": [
    "total_df = pd.concat([job_col_df, emp_cols_df])"
   ]
  },
  {
   "cell_type": "code",
   "execution_count": 231,
   "id": "d17361bb-7733-4054-b6d0-61b282fdb4f1",
   "metadata": {},
   "outputs": [],
   "source": [
    "total_df = pd.DataFrame(total_df)"
   ]
  },
  {
   "cell_type": "code",
   "execution_count": 232,
   "id": "ba4caad5-d4c5-455f-be2a-9266efb8052a",
   "metadata": {},
   "outputs": [
    {
     "data": {
      "text/plain": [
       "jobTitle           87.240233\n",
       "description        87.240233\n",
       "status             87.240233\n",
       "required_skills    87.240233\n",
       "functionalArea     17.456359\n",
       "employee_skills    12.759767\n",
       "dtype: float64"
      ]
     },
     "execution_count": 232,
     "metadata": {},
     "output_type": "execute_result"
    }
   ],
   "source": [
    "100 * total_df.isnull().sum() / len(total_df)"
   ]
  },
  {
   "cell_type": "code",
   "execution_count": 233,
   "id": "6ce41934-f021-436a-94a8-9670a5cd2ad1",
   "metadata": {},
   "outputs": [],
   "source": [
    "for i in total_df:\n",
    "    total_df[i] = total_df[i].fillna(\" \")"
   ]
  },
  {
   "cell_type": "code",
   "execution_count": 234,
   "id": "d745ace0-08fa-49ea-b0be-e869b108e139",
   "metadata": {},
   "outputs": [
    {
     "data": {
      "text/plain": [
       "jobTitle           0.0\n",
       "description        0.0\n",
       "status             0.0\n",
       "required_skills    0.0\n",
       "functionalArea     0.0\n",
       "employee_skills    0.0\n",
       "dtype: float64"
      ]
     },
     "execution_count": 234,
     "metadata": {},
     "output_type": "execute_result"
    }
   ],
   "source": [
    "100 * total_df.isnull().sum() / len(total_df)"
   ]
  },
  {
   "cell_type": "code",
   "execution_count": 235,
   "id": "799df86d-aeed-4e61-804e-4d9035967059",
   "metadata": {},
   "outputs": [],
   "source": [
    "total_df = total_df.reset_index().rename(columns={'index': 'index'})"
   ]
  },
  {
   "cell_type": "code",
   "execution_count": 236,
   "id": "c5db468e-68aa-4ceb-9f67-71ab7d48e562",
   "metadata": {},
   "outputs": [
    {
     "data": {
      "text/html": [
       "<div>\n",
       "<style scoped>\n",
       "    .dataframe tbody tr th:only-of-type {\n",
       "        vertical-align: middle;\n",
       "    }\n",
       "\n",
       "    .dataframe tbody tr th {\n",
       "        vertical-align: top;\n",
       "    }\n",
       "\n",
       "    .dataframe thead th {\n",
       "        text-align: right;\n",
       "    }\n",
       "</style>\n",
       "<table border=\"1\" class=\"dataframe\">\n",
       "  <thead>\n",
       "    <tr style=\"text-align: right;\">\n",
       "      <th></th>\n",
       "      <th>index</th>\n",
       "      <th>jobTitle</th>\n",
       "      <th>description</th>\n",
       "      <th>status</th>\n",
       "      <th>required_skills</th>\n",
       "      <th>functionalArea</th>\n",
       "      <th>employee_skills</th>\n",
       "    </tr>\n",
       "  </thead>\n",
       "  <tbody>\n",
       "    <tr>\n",
       "      <th>0</th>\n",
       "      <td>0</td>\n",
       "      <td>Plant Maintenance Engineer</td>\n",
       "      <td>Read and understand the data from P&amp;ID, PEFS, ...</td>\n",
       "      <td>Active</td>\n",
       "      <td>{\"Plant Maintenance\"}</td>\n",
       "      <td></td>\n",
       "      <td></td>\n",
       "    </tr>\n",
       "    <tr>\n",
       "      <th>1</th>\n",
       "      <td>1</td>\n",
       "      <td>Adobe Analytics developer</td>\n",
       "      <td>An understanding of the marketing technologies...</td>\n",
       "      <td>Active</td>\n",
       "      <td>{\"Adobe anaytics\",Agile,tableau,Marketo,\"power...</td>\n",
       "      <td></td>\n",
       "      <td></td>\n",
       "    </tr>\n",
       "    <tr>\n",
       "      <th>2</th>\n",
       "      <td>2</td>\n",
       "      <td>AEM architect</td>\n",
       "      <td>To analyze, understand the client’s business u...</td>\n",
       "      <td>Active</td>\n",
       "      <td>{JIRA,Confluence,AEM}</td>\n",
       "      <td></td>\n",
       "      <td></td>\n",
       "    </tr>\n",
       "  </tbody>\n",
       "</table>\n",
       "</div>"
      ],
      "text/plain": [
       "   index                    jobTitle  \\\n",
       "0      0  Plant Maintenance Engineer   \n",
       "1      1   Adobe Analytics developer   \n",
       "2      2               AEM architect   \n",
       "\n",
       "                                         description  status  \\\n",
       "0  Read and understand the data from P&ID, PEFS, ...  Active   \n",
       "1  An understanding of the marketing technologies...  Active   \n",
       "2  To analyze, understand the client’s business u...  Active   \n",
       "\n",
       "                                     required_skills functionalArea  \\\n",
       "0                              {\"Plant Maintenance\"}                  \n",
       "1  {\"Adobe anaytics\",Agile,tableau,Marketo,\"power...                  \n",
       "2                              {JIRA,Confluence,AEM}                  \n",
       "\n",
       "  employee_skills  \n",
       "0                  \n",
       "1                  \n",
       "2                  "
      ]
     },
     "execution_count": 236,
     "metadata": {},
     "output_type": "execute_result"
    }
   ],
   "source": [
    "total_df.head(3)"
   ]
  },
  {
   "cell_type": "code",
   "execution_count": 237,
   "id": "8b34a122-4b9e-4ab7-94f0-456352d98587",
   "metadata": {},
   "outputs": [],
   "source": [
    "def get_jobtitle_by_index(index):\n",
    "    return total_df[total_df.index == index]['jobTitle']\n",
    "def get_index_by_jobtitle(jobTitle):\n",
    "    return total_df[total_df.jobTitle == jobTitle]['index']"
   ]
  },
  {
   "cell_type": "code",
   "execution_count": 293,
   "id": "83b460dc-a32b-4dc5-8ab4-d58f64dc0de6",
   "metadata": {},
   "outputs": [],
   "source": [
    "required_cols = ['description', 'status', 'required_skills', 'functionalArea', 'employee_skills']\n",
    "\n",
    "def get_required_cols_by_jobtitle(jobtitle):\n",
    "    row = total_df.loc[total_df['jobTitle'] == jobtitle, required_cols]\n",
    "    return row.to_dict(orient=\"records\")\n",
    "\n",
    "#print(get_required_cols_by_jobtitle(total_df[\"jobTitle\"].iloc[2]))"
   ]
  },
  {
   "cell_type": "code",
   "execution_count": 238,
   "id": "6999c200-f348-4a20-a14a-54330041953f",
   "metadata": {},
   "outputs": [],
   "source": [
    "def combine_cols(row):\n",
    "    try:\n",
    "        text = row['description'] +' '+ row['status'] +' '+ row['required_skills'] +' '+ row['functionalArea'] +' '+ row['employee_skills']\n",
    "        return text\n",
    "    except:\n",
    "        print(f\"The error is in a row: {row['index']}\")"
   ]
  },
  {
   "cell_type": "code",
   "execution_count": 270,
   "id": "1c250487-8f34-43b1-aedd-a1a383549eb6",
   "metadata": {},
   "outputs": [],
   "source": [
    "total_df['combined_text'] = total_df.apply(combine_cols, axis=1)\n",
    "# total_df['combined_text'] "
   ]
  },
  {
   "cell_type": "code",
   "execution_count": 240,
   "id": "d43324ad-fe84-4f11-a2ef-3de713ca45d2",
   "metadata": {},
   "outputs": [],
   "source": [
    "from sklearn.feature_extraction.text import CountVectorizer\n",
    "cv = CountVectorizer()\n",
    "\n",
    "count_matrix = cv.fit_transform(total_df['combined_text'])"
   ]
  },
  {
   "cell_type": "code",
   "execution_count": 241,
   "id": "7662d550-0fa0-44a2-87fc-956928a4bde1",
   "metadata": {},
   "outputs": [
    {
     "data": {
      "text/plain": [
       "<2406x3929 sparse matrix of type '<class 'numpy.int64'>'\n",
       "\twith 33331 stored elements in Compressed Sparse Row format>"
      ]
     },
     "execution_count": 241,
     "metadata": {},
     "output_type": "execute_result"
    }
   ],
   "source": [
    "count_matrix"
   ]
  },
  {
   "cell_type": "code",
   "execution_count": 242,
   "id": "51108a56-20f4-4a5d-9353-b45cf7fe7128",
   "metadata": {
    "scrolled": true
   },
   "outputs": [
    {
     "data": {
      "text/plain": [
       "'\\nfor ele in count_matrix:\\n    print(ele)\\n'"
      ]
     },
     "execution_count": 242,
     "metadata": {},
     "output_type": "execute_result"
    }
   ],
   "source": [
    "'''\n",
    "for ele in count_matrix:\n",
    "    print(ele)\n",
    "'''"
   ]
  },
  {
   "cell_type": "code",
   "execution_count": 243,
   "id": "3b746a8d-6af3-4290-aadd-f5fc4ab35abb",
   "metadata": {},
   "outputs": [],
   "source": [
    "from sklearn.metrics.pairwise import cosine_similarity\n",
    "cos_similarity = cosine_similarity(count_matrix)"
   ]
  },
  {
   "cell_type": "code",
   "execution_count": 244,
   "id": "f6e15ce1-8d4c-47df-9757-83e36122f061",
   "metadata": {},
   "outputs": [
    {
     "data": {
      "text/plain": [
       "'\\nfor ele in cos_similarity:\\n    print(ele)   \\n'"
      ]
     },
     "execution_count": 244,
     "metadata": {},
     "output_type": "execute_result"
    }
   ],
   "source": [
    "'''\n",
    "for ele in cos_similarity:\n",
    "    print(ele)   \n",
    "'''"
   ]
  },
  {
   "cell_type": "code",
   "execution_count": 245,
   "id": "dbb3d49d-87a4-4d62-821d-b0d5d61dec8b",
   "metadata": {},
   "outputs": [
    {
     "data": {
      "text/plain": [
       "Index(['index', 'jobTitle', 'description', 'status', 'required_skills',\n",
       "       'functionalArea', 'employee_skills', 'combined_text'],\n",
       "      dtype='object')"
      ]
     },
     "execution_count": 245,
     "metadata": {},
     "output_type": "execute_result"
    }
   ],
   "source": [
    "total_df.columns"
   ]
  },
  {
   "cell_type": "code",
   "execution_count": 295,
   "id": "e0382924-c940-412a-bfea-ed40986229ad",
   "metadata": {},
   "outputs": [
    {
     "name": "stdin",
     "output_type": "stream",
     "text": [
      "Which is your favorite job?:  Plant Maintenance Engineer\n"
     ]
    },
    {
     "name": "stdout",
     "output_type": "stream",
     "text": [
      "You must have the required qualification!: \n",
      "\n",
      "[{'description': 'Read and understand the data from P&ID, PEFS, SLD, I/O list, line list, Cause & effect, Hazardous area classification, Alarm & Trip, F&G etc. Populating technical details from Various sources. Preparing Asset & maintenance plan data. Preparation of SPIR data. Bill of Material Build.\\r\\nImmediate/30 days.\\r\\n02 to 05 Years experience\\r\\nEducation : B.E or B.Tech - MECH/EEE/ECE/IE/ICE', 'status': 'Active', 'required_skills': '{\"Plant Maintenance\"}', 'functionalArea': ' ', 'employee_skills': ' '}]\n"
     ]
    }
   ],
   "source": [
    "def job_finder():\n",
    "    job_name = input(\"Which is your favorite job?: \")\n",
    "    job_index = get_index_by_jobtitle(job_name)\n",
    "    similar_job = list(enumerate(cos_similarity[job_index].flatten())) # enumerate(...): This adds indexes to each element in the similarity vector [1, 0.23],...\n",
    "    sorted_similer_job = sorted(similar_job, key = lambda x:x[1], reverse=True)\n",
    "\n",
    "    print(\"You must have the required qualification!: \")\n",
    "    for job in sorted_similer_job:\n",
    "        try:\n",
    "            if (get_jobtitle_by_index(job[0]) == job_name).any():\n",
    "                   print(f\"\\n{get_required_cols_by_jobtitle(job_name)}\")\n",
    "        except:\n",
    "            print(f\"The required job does not exist\")\n",
    "\n",
    "job_finder()"
   ]
  },
  {
   "cell_type": "code",
   "execution_count": 252,
   "id": "c808d675-3ec5-440c-97d8-c9af6fda595d",
   "metadata": {},
   "outputs": [
    {
     "data": {
      "text/html": [
       "<div>\n",
       "<style scoped>\n",
       "    .dataframe tbody tr th:only-of-type {\n",
       "        vertical-align: middle;\n",
       "    }\n",
       "\n",
       "    .dataframe tbody tr th {\n",
       "        vertical-align: top;\n",
       "    }\n",
       "\n",
       "    .dataframe thead th {\n",
       "        text-align: right;\n",
       "    }\n",
       "</style>\n",
       "<table border=\"1\" class=\"dataframe\">\n",
       "  <thead>\n",
       "    <tr style=\"text-align: right;\">\n",
       "      <th></th>\n",
       "      <th>index</th>\n",
       "      <th>jobTitle</th>\n",
       "      <th>description</th>\n",
       "      <th>status</th>\n",
       "      <th>required_skills</th>\n",
       "      <th>functionalArea</th>\n",
       "      <th>employee_skills</th>\n",
       "      <th>combined_text</th>\n",
       "    </tr>\n",
       "  </thead>\n",
       "  <tbody>\n",
       "    <tr>\n",
       "      <th>0</th>\n",
       "      <td>0</td>\n",
       "      <td>Plant Maintenance Engineer</td>\n",
       "      <td>Read and understand the data from P&amp;ID, PEFS, ...</td>\n",
       "      <td>Active</td>\n",
       "      <td>{\"Plant Maintenance\"}</td>\n",
       "      <td></td>\n",
       "      <td></td>\n",
       "      <td>Read and understand the data from P&amp;ID, PEFS, ...</td>\n",
       "    </tr>\n",
       "    <tr>\n",
       "      <th>1</th>\n",
       "      <td>1</td>\n",
       "      <td>Adobe Analytics developer</td>\n",
       "      <td>An understanding of the marketing technologies...</td>\n",
       "      <td>Active</td>\n",
       "      <td>{\"Adobe anaytics\",Agile,tableau,Marketo,\"power...</td>\n",
       "      <td></td>\n",
       "      <td></td>\n",
       "      <td>An understanding of the marketing technologies...</td>\n",
       "    </tr>\n",
       "    <tr>\n",
       "      <th>2</th>\n",
       "      <td>2</td>\n",
       "      <td>AEM architect</td>\n",
       "      <td>To analyze, understand the client’s business u...</td>\n",
       "      <td>Active</td>\n",
       "      <td>{JIRA,Confluence,AEM}</td>\n",
       "      <td></td>\n",
       "      <td></td>\n",
       "      <td>To analyze, understand the client’s business u...</td>\n",
       "    </tr>\n",
       "  </tbody>\n",
       "</table>\n",
       "</div>"
      ],
      "text/plain": [
       "   index                    jobTitle  \\\n",
       "0      0  Plant Maintenance Engineer   \n",
       "1      1   Adobe Analytics developer   \n",
       "2      2               AEM architect   \n",
       "\n",
       "                                         description  status  \\\n",
       "0  Read and understand the data from P&ID, PEFS, ...  Active   \n",
       "1  An understanding of the marketing technologies...  Active   \n",
       "2  To analyze, understand the client’s business u...  Active   \n",
       "\n",
       "                                     required_skills functionalArea  \\\n",
       "0                              {\"Plant Maintenance\"}                  \n",
       "1  {\"Adobe anaytics\",Agile,tableau,Marketo,\"power...                  \n",
       "2                              {JIRA,Confluence,AEM}                  \n",
       "\n",
       "  employee_skills                                      combined_text  \n",
       "0                  Read and understand the data from P&ID, PEFS, ...  \n",
       "1                  An understanding of the marketing technologies...  \n",
       "2                  To analyze, understand the client’s business u...  "
      ]
     },
     "execution_count": 252,
     "metadata": {},
     "output_type": "execute_result"
    }
   ],
   "source": [
    "#total_df.head(3)"
   ]
  },
  {
   "cell_type": "code",
   "execution_count": null,
   "id": "0b3155ba-a99d-431a-a386-2f8a667fff8b",
   "metadata": {},
   "outputs": [],
   "source": []
  },
  {
   "cell_type": "code",
   "execution_count": null,
   "id": "7af3de41-88d9-40ac-ab08-112d742a96d9",
   "metadata": {},
   "outputs": [],
   "source": []
  }
 ],
 "metadata": {
  "kernelspec": {
   "display_name": "Python 3 (ipykernel)",
   "language": "python",
   "name": "python3"
  },
  "language_info": {
   "codemirror_mode": {
    "name": "ipython",
    "version": 3
   },
   "file_extension": ".py",
   "mimetype": "text/x-python",
   "name": "python",
   "nbconvert_exporter": "python",
   "pygments_lexer": "ipython3",
   "version": "3.12.7"
  }
 },
 "nbformat": 4,
 "nbformat_minor": 5
}
